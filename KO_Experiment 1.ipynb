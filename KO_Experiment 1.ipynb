{
 "cells": [
  {
   "cell_type": "markdown",
   "id": "63d919ca-3476-444a-9ba4-3676372c18bd",
   "metadata": {},
   "source": [
    "# Alphabet Soup problem"
   ]
  },
  {
   "cell_type": "code",
   "execution_count": null,
   "id": "ef283a1e-3f75-415c-be51-d803a1bf1ac9",
   "metadata": {},
   "outputs": [],
   "source": [
    "#get the user input\n",
    "s=input(\"Aplhabet_soup: \" ) \n",
    "\n",
    "# sort the input aphabetically\n",
    "t=sorted(s)\n",
    "\n",
    "#join the letters together\n",
    "f=''.join(t)\n",
    "\n",
    "#print the result\n",
    "print(\"Alphabet_soup:\",s,\"->\",f)"
   ]
  },
  {
   "cell_type": "markdown",
   "id": "b3733812-67ae-4983-aba7-4814fdb28739",
   "metadata": {},
   "source": [
    "# Emoticon Problem"
   ]
  },
  {
   "cell_type": "code",
   "execution_count": 4,
   "id": "5aed55d5-b288-41a8-aba1-f292f57a130d",
   "metadata": {},
   "outputs": [
    {
     "name": "stdin",
     "output_type": "stream",
     "text": [
      "emotify:  i am mad angry\n"
     ]
    },
    {
     "name": "stdout",
     "output_type": "stream",
     "text": [
      "emotify:  i am mad angry -> i am >;( angry\n"
     ]
    }
   ],
   "source": [
    "#defining the function\n",
    "def emotify(a):\n",
    "    \n",
    "    #creating the dictionary\n",
    "    emotes={'smile':':)','grin':':D','sad':':((','mad':'>:('}\n",
    "    \n",
    "    # split the sentences into seperate words\n",
    "    words = a.split()\n",
    "    \n",
    "    # return the sentence after checking each word if they are part of the emotes thus changing them ,if not keep it the same\n",
    "    return ' '.join([emotes[word] if word in emotes else word for word in words])\n",
    "\n",
    "#get the user input\n",
    "b=input(\"emotify: \")\n",
    "\n",
    "#print the results\n",
    "print(\"emotify: \",b,\"->\",emotify(b))"
   ]
  },
  {
   "cell_type": "markdown",
   "id": "ea98720f-26fe-49ca-a10a-90f728b4ff2f",
   "metadata": {},
   "source": [
    "# Unpacking List Problem"
   ]
  },
  {
   "cell_type": "code",
   "execution_count": 8,
   "id": "b6b0a5c4-41de-4a89-94dc-fdf2a07045c5",
   "metadata": {},
   "outputs": [
    {
     "name": "stdin",
     "output_type": "stream",
     "text": [
      "put your number list here (ex. 1,2,3,4,5,6) :  3,4,7,8,10,100,15\n"
     ]
    },
    {
     "name": "stdout",
     "output_type": "stream",
     "text": [
      "first: 3\n",
      "middle: [4, 7, 8, 10, 100]\n",
      "last: 15\n"
     ]
    }
   ],
   "source": [
    "#defining the function\n",
    "def ul(st):\n",
    "    #  get the first the middel and last of the list\n",
    "    first, *middle, last = st\n",
    "    # return the values\n",
    "    return first, middle, last\n",
    "\n",
    "#get the user input\n",
    "l=input(\"put your number list here (ex. 1,2,3,4,5,6) : \")\n",
    "\n",
    "#split the input the turn each string into an integer then list them\n",
    "l=list(map(int, l.split(',')))\n",
    "\n",
    "#the first middle and last is the same as the function\n",
    "first, middle, last = ul(l)\n",
    "\n",
    "#print the first in the list\n",
    "print(f\"first: {first}\")\n",
    "\n",
    "#print the middle in the list\n",
    "print(f\"middle: {middle}\")\n",
    "\n",
    "#print the last in the list\n",
    "print(f\"last: {last}\")"
   ]
  }
 ],
 "metadata": {
  "kernelspec": {
   "display_name": "Python 3 (ipykernel)",
   "language": "python",
   "name": "python3"
  },
  "language_info": {
   "codemirror_mode": {
    "name": "ipython",
    "version": 3
   },
   "file_extension": ".py",
   "mimetype": "text/x-python",
   "name": "python",
   "nbconvert_exporter": "python",
   "pygments_lexer": "ipython3",
   "version": "3.12.4"
  }
 },
 "nbformat": 4,
 "nbformat_minor": 5
}
