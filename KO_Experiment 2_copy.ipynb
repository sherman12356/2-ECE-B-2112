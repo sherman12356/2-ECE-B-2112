{
 "cells": [
  {
   "cell_type": "markdown",
   "id": "33bcc9ed-8cc5-4612-b6cd-c313d307d1d1",
   "metadata": {},
   "source": [
    "# NORMALIZATION PROBLEM"
   ]
  },
  {
   "cell_type": "code",
   "execution_count": 12,
   "id": "fa165661-b4f2-49bf-b856-28e6e30c985a",
   "metadata": {},
   "outputs": [
    {
     "data": {
      "text/plain": [
       "array([[ 1.06320114, -0.83267454,  0.98030203,  0.90579397, -1.53380948],\n",
       "       [ 0.53685599,  0.91357785,  0.43327945, -0.49299473, -0.96388381],\n",
       "       [-0.43404675,  1.7439055 , -1.54585706,  0.59945673, -0.59858614],\n",
       "       [-0.19248428, -0.26160108, -0.90049287, -0.2290411 ,  0.91874614],\n",
       "       [-1.01854068,  1.74493131, -1.25687914,  1.36349868, -0.94265712]])"
      ]
     },
     "execution_count": 12,
     "metadata": {},
     "output_type": "execute_result"
    }
   ],
   "source": [
    "#import the function numpy as np\n",
    "import numpy as np\n",
    "\n",
    "# cretae the random 5x5 array\n",
    "X =np.random.random((5,5))\n",
    "\n",
    "#normalized the X\n",
    "x=((X-X.mean())/np.std(X))\n",
    "\n",
    "#saving the normalized X and X_normalized\n",
    "np.save('X_normalized',x)\n"
   ]
  },
  {
   "cell_type": "markdown",
   "id": "03a579f5-ccdb-45ef-ac60-f4f3313de6fc",
   "metadata": {},
   "source": [
    "# DIVISIBLE BY 3 PROBLEM"
   ]
  },
  {
   "cell_type": "code",
   "execution_count": 24,
   "id": "9be22305-a82b-40b7-a5a5-2148a9052b3d",
   "metadata": {},
   "outputs": [
    {
     "data": {
      "text/plain": [
       "array([   9,   36,   81,  144,  225,  324,  441,  576,  729,  900, 1089,\n",
       "       1296, 1521, 1764, 2025, 2304, 2601, 2916, 3249, 3600, 3969, 4356,\n",
       "       4761, 5184, 5625, 6084, 6561, 7056, 7569, 8100, 8649, 9216, 9801])"
      ]
     },
     "execution_count": 24,
     "metadata": {},
     "output_type": "execute_result"
    }
   ],
   "source": [
    "#import the function numpy as np\n",
    "import numpy as np\n",
    "\n",
    "#Create the asssigned 10x10 array by making the list then reshaping it to a 10x10 array\n",
    "Z=np.array([z**2 for z in range(1,101)]).reshape(10,10)\n",
    "\n",
    "# find the numbers divisible by 3 in the array using modulus\n",
    "d=Z[Z%3==0]\n",
    "\n",
    "#save the array as \"div_by_3\"\n",
    "np.save('div_by_3',d)"
   ]
  }
 ],
 "metadata": {
  "kernelspec": {
   "display_name": "Python 3 (ipykernel)",
   "language": "python",
   "name": "python3"
  },
  "language_info": {
   "codemirror_mode": {
    "name": "ipython",
    "version": 3
   },
   "file_extension": ".py",
   "mimetype": "text/x-python",
   "name": "python",
   "nbconvert_exporter": "python",
   "pygments_lexer": "ipython3",
   "version": "3.12.4"
  }
 },
 "nbformat": 4,
 "nbformat_minor": 5
}
